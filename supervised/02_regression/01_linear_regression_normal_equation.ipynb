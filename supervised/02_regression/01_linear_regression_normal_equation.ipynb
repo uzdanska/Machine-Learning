{
  "nbformat": 4,
  "nbformat_minor": 0,
  "metadata": {
    "colab": {
      "provenance": [],
      "authorship_tag": "ABX9TyPV0s+scXNsj6UNKT8GNMvn",
      "include_colab_link": true
    },
    "kernelspec": {
      "name": "python3",
      "display_name": "Python 3"
    },
    "language_info": {
      "name": "python"
    }
  },
  "cells": [
    {
      "cell_type": "markdown",
      "metadata": {
        "id": "view-in-github",
        "colab_type": "text"
      },
      "source": [
        "<a href=\"https://colab.research.google.com/github/uzdanska/Machine-Learning/blob/main/supervised/02_regression/01_linear_regression_normal_equation.ipynb\" target=\"_parent\"><img src=\"https://colab.research.google.com/assets/colab-badge.svg\" alt=\"Open In Colab\"/></a>"
      ]
    },
    {
      "cell_type": "markdown",
      "source": [
        "### scikit-learn\n",
        "\n",
        "Strona biblioteki: https://scikit-learn.org\n",
        "\n",
        "Dokumentacja/User Guide: https://scikit-learn.org/stable/user_guide.html\n",
        "\n",
        "Podstawowa biblioteka do uczenia maszynowego w języku Python.\n",
        "\n",
        "Aby zainstalować bibliotekę scikit-learn, użyj polecenia poniżej:\n",
        "```\n",
        "!pip install scikit-learn\n",
        "\n",
        "```\n",
        "Aby zaktualizować do najnowszej wersji bibliotekę scikit-learn, użyj polecenia poniżej:\n",
        "```\n",
        "!pip install --upgrade scikit-learn\n",
        "```\n",
        "Kurs stworzony w oparciu o wersję 0.22.1\n",
        "\n",
        "### Preprocessing danych:\n",
        "\n",
        "\n",
        "1.   [Import bibliorek](#0)\n",
        "2.   [Przygotowanie danych](#1)\n",
        "3.   [Równanie normalne](#3)\n",
        "4.   [Regresja liniowa przy pomocy scikit-learn](#4)\n"
      ],
      "metadata": {
        "id": "nUm-S6F5XtA5"
      }
    },
    {
      "cell_type": "markdown",
      "source": [
        "### <a name=\"0\"></a> 1. Import bibliotek"
      ],
      "metadata": {
        "id": "lYU7Yo3MY729"
      }
    },
    {
      "cell_type": "code",
      "execution_count": 5,
      "metadata": {
        "id": "OHNHmqm2WfjZ"
      },
      "outputs": [],
      "source": [
        "import numpy as np"
      ]
    },
    {
      "cell_type": "markdown",
      "source": [
        "### <a name=\"1\"></a> 2. Przygotowanie danych"
      ],
      "metadata": {
        "id": "Sz8BiSKjY-yS"
      }
    },
    {
      "cell_type": "code",
      "source": [
        "X1 = np.array([1, 2, 3, 4, 5, 6])\n",
        "Y = np.array([3000, 3250, 3500, 3750, 4000, 4250])\n",
        "m = len(X1)\n",
        "\n",
        "print(f'Lata pracy: {X1}')\n",
        "print(f'Wynagrodzenie: {Y}')\n",
        "print(f'Liczba próbek: {m}')"
      ],
      "metadata": {
        "colab": {
          "base_uri": "https://localhost:8080/"
        },
        "id": "ZCB2mhr3ZD42",
        "outputId": "19308649-3b71-489b-d752-797116aa71d7"
      },
      "execution_count": 6,
      "outputs": [
        {
          "output_type": "stream",
          "name": "stdout",
          "text": [
            "Lata pracy: [1 2 3 4 5 6]\n",
            "Wynagrodzenie: [3000 3250 3500 3750 4000 4250]\n",
            "Liczba próbek: 6\n"
          ]
        }
      ]
    },
    {
      "cell_type": "markdown",
      "source": [
        "Nadajemy wartość m wierszy i 1 kolumna"
      ],
      "metadata": {
        "id": "EAYfW1UEf5ff"
      }
    },
    {
      "cell_type": "code",
      "source": [
        "X1 = X1.reshape(m, 1)\n",
        "print(X1)\n",
        "print(X1.shape)"
      ],
      "metadata": {
        "colab": {
          "base_uri": "https://localhost:8080/"
        },
        "id": "8gbyoMl_fvc6",
        "outputId": "675eec8b-58b0-4d12-fae0-18d3e3a78c86"
      },
      "execution_count": 7,
      "outputs": [
        {
          "output_type": "stream",
          "name": "stdout",
          "text": [
            "[[1]\n",
            " [2]\n",
            " [3]\n",
            " [4]\n",
            " [5]\n",
            " [6]]\n",
            "(6, 1)\n"
          ]
        }
      ]
    },
    {
      "cell_type": "markdown",
      "source": [
        "Wygenerowanie wektora jedynek"
      ],
      "metadata": {
        "id": "TBGBlS8hf-51"
      }
    },
    {
      "cell_type": "code",
      "source": [
        "bias = np.ones((m, 1))\n",
        "print(bias)\n",
        "print(bias.shape)"
      ],
      "metadata": {
        "colab": {
          "base_uri": "https://localhost:8080/"
        },
        "id": "J9TgXVrggFpV",
        "outputId": "215dba16-452c-4868-c01a-ce906dc8c352"
      },
      "execution_count": 8,
      "outputs": [
        {
          "output_type": "stream",
          "name": "stdout",
          "text": [
            "[[1.]\n",
            " [1.]\n",
            " [1.]\n",
            " [1.]\n",
            " [1.]\n",
            " [1.]]\n",
            "(6, 1)\n"
          ]
        }
      ]
    },
    {
      "cell_type": "markdown",
      "source": [
        "Dodanie wektora jedynek"
      ],
      "metadata": {
        "id": "NWq9RJThiSii"
      }
    },
    {
      "cell_type": "code",
      "source": [
        "X = np.append(bias, X1, axis=1)\n",
        "print(X)\n",
        "print(X.shape)"
      ],
      "metadata": {
        "colab": {
          "base_uri": "https://localhost:8080/"
        },
        "id": "71TBI1a-iWQM",
        "outputId": "5c195141-56f8-4586-b76f-2468a8072952"
      },
      "execution_count": 9,
      "outputs": [
        {
          "output_type": "stream",
          "name": "stdout",
          "text": [
            "[[1. 1.]\n",
            " [1. 2.]\n",
            " [1. 3.]\n",
            " [1. 4.]\n",
            " [1. 5.]\n",
            " [1. 6.]]\n",
            "(6, 2)\n"
          ]
        }
      ]
    },
    {
      "cell_type": "markdown",
      "source": [
        "### <a class=\"2\"></a> 3. Równanie normalne\n",
        "\n",
        "Regresja liniowa w $R^2$:\n",
        "\n",
        "\n",
        "$$ Y = w_0 + w_1X_1$$\n",
        "$$ Y = W^TX$$\n",
        "\n",
        "\n",
        "gdzie:\n",
        "\n",
        "$$ W = \\left[\\begin{array}{ccc}\n",
        "w_0\\\\\n",
        "w_1\\\\\n",
        "\\end{array}\\right]$$\n",
        "\n",
        "$$ X = \\left[\\begin{array}{ccc}\n",
        "1\\\\\n",
        "X_1\\\\\n",
        "\\end{array}\\right]$$\n",
        "\n",
        "stąd:\n",
        "\n",
        "$$W^T = [w_0, w_1]$$\n",
        "\n",
        "$$ Y = W^TX = [w_0, w_1] * \\left[\\begin{array}{ccc}\n",
        "1\\\\\n",
        "X_1\\\\\n",
        "\\end{array}\\right] = w_0 + w_1X_1$$\n",
        "\n",
        "\n",
        "Równanie normalne - równanie pozwalające obliczyć minimum funkcji straty (o ile istnieje)\n",
        "$$ W = (X^TX)^{-1}(X^TY)$$"
      ],
      "metadata": {
        "id": "s9fOy-tAjgXf"
      }
    },
    {
      "cell_type": "code",
      "source": [
        "X"
      ],
      "metadata": {
        "colab": {
          "base_uri": "https://localhost:8080/"
        },
        "id": "eHMzrxu2Vlr9",
        "outputId": "403b4ac8-e904-4e5e-e616-8248e028d883"
      },
      "execution_count": 10,
      "outputs": [
        {
          "output_type": "execute_result",
          "data": {
            "text/plain": [
              "array([[1., 1.],\n",
              "       [1., 2.],\n",
              "       [1., 3.],\n",
              "       [1., 4.],\n",
              "       [1., 5.],\n",
              "       [1., 6.]])"
            ]
          },
          "metadata": {},
          "execution_count": 10
        }
      ]
    },
    {
      "cell_type": "code",
      "source": [
        "Y"
      ],
      "metadata": {
        "colab": {
          "base_uri": "https://localhost:8080/"
        },
        "id": "5YMBD8ARWri_",
        "outputId": "fb7998ce-cfc1-4f5d-f0cf-eaafb449884e"
      },
      "execution_count": 11,
      "outputs": [
        {
          "output_type": "execute_result",
          "data": {
            "text/plain": [
              "array([3000, 3250, 3500, 3750, 4000, 4250])"
            ]
          },
          "metadata": {},
          "execution_count": 11
        }
      ]
    },
    {
      "cell_type": "code",
      "source": [
        "W = np.dot(np.linalg.inv(np.dot(X.T, X)), np.dot(X.T, Y))\n",
        "W"
      ],
      "metadata": {
        "colab": {
          "base_uri": "https://localhost:8080/"
        },
        "id": "B_bmw4i2WzAJ",
        "outputId": "2447d7e9-94af-4319-c7fe-cd0b6022c332"
      },
      "execution_count": 16,
      "outputs": [
        {
          "output_type": "execute_result",
          "data": {
            "text/plain": [
              "array([2750.,  250.])"
            ]
          },
          "metadata": {},
          "execution_count": 16
        }
      ]
    },
    {
      "cell_type": "markdown",
      "source": [
        "Podział na kroki:\n",
        "\n",
        "1. $$ X^TX$$\n",
        "\n"
      ],
      "metadata": {
        "id": "5J__31FGYsF_"
      }
    },
    {
      "cell_type": "code",
      "source": [
        "XT_X = np.dot(X.T, X)\n",
        "XT_X"
      ],
      "metadata": {
        "colab": {
          "base_uri": "https://localhost:8080/"
        },
        "id": "364PqDpWYvo-",
        "outputId": "3f524554-6bc5-4409-8879-f5f89e85e30c"
      },
      "execution_count": 17,
      "outputs": [
        {
          "output_type": "execute_result",
          "data": {
            "text/plain": [
              "array([[ 6., 21.],\n",
              "       [21., 91.]])"
            ]
          },
          "metadata": {},
          "execution_count": 17
        }
      ]
    },
    {
      "cell_type": "markdown",
      "source": [
        "2. $$ (X^TX)^{-1}$$"
      ],
      "metadata": {
        "id": "MwxF_VpvZNBB"
      }
    },
    {
      "cell_type": "code",
      "source": [
        "TRANSPOSE_XT_X = np.linalg.inv(XT_X)\n",
        "TRANSPOSE_XT_X"
      ],
      "metadata": {
        "colab": {
          "base_uri": "https://localhost:8080/"
        },
        "id": "dRNPF7raZaJ5",
        "outputId": "e478bbcb-60cc-4c65-e205-45f398aae210"
      },
      "execution_count": 23,
      "outputs": [
        {
          "output_type": "execute_result",
          "data": {
            "text/plain": [
              "array([[ 0.86666667, -0.2       ],\n",
              "       [-0.2       ,  0.05714286]])"
            ]
          },
          "metadata": {},
          "execution_count": 23
        }
      ]
    },
    {
      "cell_type": "markdown",
      "source": [
        "3. $$ (X^TY)$$"
      ],
      "metadata": {
        "id": "rTv4jJnzZrgK"
      }
    },
    {
      "cell_type": "code",
      "source": [
        "XT_Y = np.dot(X.T, Y)\n",
        "XT_Y"
      ],
      "metadata": {
        "colab": {
          "base_uri": "https://localhost:8080/"
        },
        "id": "Tq8mWXn-Zv3d",
        "outputId": "34b3461c-e43c-4dc7-d89e-822e5e45911d"
      },
      "execution_count": 21,
      "outputs": [
        {
          "output_type": "execute_result",
          "data": {
            "text/plain": [
              "array([21750., 80500.])"
            ]
          },
          "metadata": {},
          "execution_count": 21
        }
      ]
    },
    {
      "cell_type": "markdown",
      "source": [
        "4. $$ W = (X^TX)^{-1}(X^TY)$$"
      ],
      "metadata": {
        "id": "Y4r6HSK7Z8_Z"
      }
    },
    {
      "cell_type": "code",
      "source": [
        "W = np.dot(TRANSPOSE_XT_X, XT_Y)\n",
        "W"
      ],
      "metadata": {
        "colab": {
          "base_uri": "https://localhost:8080/"
        },
        "id": "oggagxAeZ-U9",
        "outputId": "8ba906c2-b980-45c3-93f0-c26c817022bc"
      },
      "execution_count": 24,
      "outputs": [
        {
          "output_type": "execute_result",
          "data": {
            "text/plain": [
              "array([2750.,  250.])"
            ]
          },
          "metadata": {},
          "execution_count": 24
        }
      ]
    },
    {
      "cell_type": "markdown",
      "source": [
        "Końcowa postąc modelu:\n",
        "\n",
        "$$ Y = 2750 + 250 X_1$$"
      ],
      "metadata": {
        "id": "a_9Nsu3fasAS"
      }
    },
    {
      "cell_type": "markdown",
      "source": [
        "### <a class=\"3\"></a> 4. Regresja liniowa przy pomocy scikit-learn\n",
        "\n",
        "\n",
        "intercept_ - współczynnik w0, miejsce przecięcia z osią Y\n",
        "ceof_[0] - współczynnik w1"
      ],
      "metadata": {
        "id": "9pbz9-3Fa4Og"
      }
    },
    {
      "cell_type": "code",
      "source": [
        "from sklearn.linear_model import LinearRegression\n",
        "\n",
        "regression = LinearRegression()\n",
        "regression.fit(X1, Y)\n",
        "\n",
        "print(regression.intercept_)\n",
        "print(regression.coef_[0])"
      ],
      "metadata": {
        "colab": {
          "base_uri": "https://localhost:8080/"
        },
        "id": "47l3HdUmbEsc",
        "outputId": "07eb90b9-efe8-4e09-878c-9d0df570abdb"
      },
      "execution_count": 26,
      "outputs": [
        {
          "output_type": "stream",
          "name": "stdout",
          "text": [
            "2750.0\n",
            "250.0\n"
          ]
        }
      ]
    }
  ]
}